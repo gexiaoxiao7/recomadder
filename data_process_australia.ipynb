{
 "cells": [
  {
   "cell_type": "code",
   "execution_count": 3,
   "metadata": {},
   "outputs": [],
   "source": [
    "import pandas as pd\n",
    "import numpy\n",
    "import matplotlib.pyplot as plt\n",
    "from sklearn.preprocessing import LabelEncoder\n",
    "import jieba\n",
    "from snownlp import SnowNLP\n",
    "import math"
   ]
  },
  {
   "cell_type": "code",
   "execution_count": 3,
   "metadata": {},
   "outputs": [
    {
     "name": "stdout",
     "output_type": "stream",
     "text": [
      "length of data: 63634\n"
     ]
    },
    {
     "data": {
      "text/html": [
       "<div>\n",
       "<style scoped>\n",
       "    .dataframe tbody tr th:only-of-type {\n",
       "        vertical-align: middle;\n",
       "    }\n",
       "\n",
       "    .dataframe tbody tr th {\n",
       "        vertical-align: top;\n",
       "    }\n",
       "\n",
       "    .dataframe thead th {\n",
       "        text-align: right;\n",
       "    }\n",
       "</style>\n",
       "<table border=\"1\" class=\"dataframe\">\n",
       "  <thead>\n",
       "    <tr style=\"text-align: right;\">\n",
       "      <th></th>\n",
       "      <th>用户ID</th>\n",
       "      <th>图片ID</th>\n",
       "      <th>实体</th>\n",
       "      <th>颜色</th>\n",
       "      <th>纹理</th>\n",
       "      <th>主题类型</th>\n",
       "      <th>情感</th>\n",
       "    </tr>\n",
       "  </thead>\n",
       "  <tbody>\n",
       "    <tr>\n",
       "      <th>0</th>\n",
       "      <td>94459808@N00</td>\n",
       "      <td>3388967115</td>\n",
       "      <td>高山</td>\n",
       "      <td>绿色</td>\n",
       "      <td>岩石</td>\n",
       "      <td>自然风光</td>\n",
       "      <td>壮观的</td>\n",
       "    </tr>\n",
       "    <tr>\n",
       "      <th>1</th>\n",
       "      <td>94459808@N00</td>\n",
       "      <td>3393680646</td>\n",
       "      <td>悉尼歌剧院</td>\n",
       "      <td>白色</td>\n",
       "      <td>光滑</td>\n",
       "      <td>建筑</td>\n",
       "      <td>现代</td>\n",
       "    </tr>\n",
       "    <tr>\n",
       "      <th>2</th>\n",
       "      <td>94459808@N00</td>\n",
       "      <td>3389770958</td>\n",
       "      <td>高楼大厦</td>\n",
       "      <td>灰色</td>\n",
       "      <td>光滑</td>\n",
       "      <td>都市旅游</td>\n",
       "      <td>忙碌</td>\n",
       "    </tr>\n",
       "    <tr>\n",
       "      <th>3</th>\n",
       "      <td>62744044@N00</td>\n",
       "      <td>9120755474</td>\n",
       "      <td>大海</td>\n",
       "      <td>蓝色</td>\n",
       "      <td>波浪</td>\n",
       "      <td>自然</td>\n",
       "      <td>宁静</td>\n",
       "    </tr>\n",
       "    <tr>\n",
       "      <th>4</th>\n",
       "      <td>62744044@N00</td>\n",
       "      <td>9118604143</td>\n",
       "      <td>大海、游乐园、高山</td>\n",
       "      <td>蓝色、鲜艳的色彩</td>\n",
       "      <td>平滑、细腻</td>\n",
       "      <td>文化旅游、娱乐</td>\n",
       "      <td>欢乐、兴奋</td>\n",
       "    </tr>\n",
       "  </tbody>\n",
       "</table>\n",
       "</div>"
      ],
      "text/plain": [
       "           用户ID        图片ID         实体        颜色     纹理     主题类型     情感\n",
       "0  94459808@N00  3388967115         高山        绿色     岩石     自然风光    壮观的\n",
       "1  94459808@N00  3393680646      悉尼歌剧院        白色     光滑       建筑     现代\n",
       "2  94459808@N00  3389770958       高楼大厦        灰色     光滑     都市旅游     忙碌\n",
       "3  62744044@N00  9120755474         大海        蓝色     波浪       自然     宁静\n",
       "4  62744044@N00  9118604143  大海、游乐园、高山  蓝色、鲜艳的色彩  平滑、细腻  文化旅游、娱乐  欢乐、兴奋"
      ]
     },
     "execution_count": 3,
     "metadata": {},
     "output_type": "execute_result"
    }
   ],
   "source": [
    "data1 = pd.read_csv('data/australia/LLM-description/australia/australia_results._part0.csv')\n",
    "data2 = pd.read_csv('data/australia/LLM-description/australia/australia_results._part1.csv')\n",
    "data3 = pd.read_csv('data/australia/LLM-description/australia/australia_results._part2.csv')\n",
    "data4 = pd.read_csv('data/australia/LLM-description/australia/australia_results._part3.csv')\n",
    "data5 = pd.read_csv('data/australia/LLM-description/australia/australia_results._part4.csv')\n",
    "data6 = pd.read_csv('data/australia/LLM-description/australia/australia_results._part5.csv')\n",
    "data7 = pd.read_csv('data/australia/LLM-description/australia/australia_results._part6.csv')\n",
    "data8 = pd.read_csv('data/australia/LLM-description/australia/australia_results._part7.csv')\n",
    "# combine all data into one\n",
    "data = pd.concat([data1, data2, data3, data4, data5, data6, data7, data8], ignore_index=True)\n",
    "print(f\"length of data: {len(data)}\")\n",
    "data.head()"
   ]
  },
  {
   "cell_type": "code",
   "execution_count": 4,
   "metadata": {},
   "outputs": [
    {
     "name": "stdout",
     "output_type": "stream",
     "text": [
      "length of data after removing missing values: 55519\n"
     ]
    }
   ],
   "source": [
    "# remove rows with missing values\n",
    "data = data.dropna()\n",
    "print(f\"length of data after removing missing values: {len(data)}\")"
   ]
  },
  {
   "cell_type": "code",
   "execution_count": 5,
   "metadata": {},
   "outputs": [
    {
     "name": "stdout",
     "output_type": "stream",
     "text": [
      "length of data after removing duplicates: 55519\n"
     ]
    }
   ],
   "source": [
    "# check if there is repeated data\n",
    "print(f\"length of data after removing duplicates: {len(data.drop_duplicates())}\")"
   ]
  },
  {
   "cell_type": "code",
   "execution_count": 6,
   "metadata": {},
   "outputs": [],
   "source": [
    "# remove column '实体'、'颜色' 、'纹理' \n",
    "data = data.drop(columns=['实体', '颜色', '纹理'])\n",
    "data.to_csv('data/australia/LLM-description/australia/australia_results.csv', index=False, encoding='gbk')"
   ]
  },
  {
   "cell_type": "code",
   "execution_count": 26,
   "metadata": {},
   "outputs": [],
   "source": [
    "data = pd.read_csv('data/australia/LLM-description/australia/australia_results.csv', encoding='gbk')"
   ]
  },
  {
   "cell_type": "code",
   "execution_count": 27,
   "metadata": {},
   "outputs": [],
   "source": [
    "with open('hit_stopwords.txt', 'r', encoding='utf-8') as f:\n",
    "    stopwords = set(f.read().splitlines())\n",
    "# add user-defined stopwords\n",
    "stopwords.update([' ', '','的','气氛','气息','主题','类型','和',':','：','旅游','传达','出'])\n",
    "def tokenize(text):\n",
    "    x = [word for word in jieba.cut(text) if word not in stopwords]\n",
    "    res = []\n",
    "    for item in x:\n",
    "        if item == []:\n",
    "            continue\n",
    "        res.append(item[0:min(2,len(item))])\n",
    "    if res == []:\n",
    "        return ''\n",
    "    return res[0]\n",
    "data['tag'] = data['主题类型'].apply(tokenize)"
   ]
  },
  {
   "cell_type": "code",
   "execution_count": 28,
   "metadata": {},
   "outputs": [],
   "source": [
    "def sentiment_score(text):\n",
    "    s = SnowNLP(text)\n",
    "    return round(s.sentiments,3)\n",
    "data['emotion'] = data['情感'].apply(sentiment_score)"
   ]
  },
  {
   "cell_type": "code",
   "execution_count": 29,
   "metadata": {},
   "outputs": [],
   "source": [
    "photo_attraction = pd.read_csv('data/australia/photo-attraction/photo_attraction_onehot_australia.csv')\n",
    "result = []\n",
    "for index, row in photo_attraction.iterrows():\n",
    "    photo_ID = row['photo_ID']\n",
    "    for col in photo_attraction.columns:\n",
    "        if col != 'photo_ID' and row[col] == 1:\n",
    "            attractionID = col\n",
    "            result.append([photo_ID, attractionID])\n",
    "result_df = pd.DataFrame(result, columns=['photo_ID', 'attractionID'])"
   ]
  },
  {
   "cell_type": "code",
   "execution_count": 30,
   "metadata": {},
   "outputs": [],
   "source": [
    "# 去掉主题类型列\n",
    "data = data.drop(columns=['主题类型', '情感'])\n",
    "# 重命名图片ID列\n",
    "data = data.rename(columns={'图片ID': 'photo_ID','用户ID':'user_ID'})"
   ]
  },
  {
   "cell_type": "code",
   "execution_count": 31,
   "metadata": {},
   "outputs": [
    {
     "name": "stdout",
     "output_type": "stream",
     "text": [
      "55519\n"
     ]
    },
    {
     "data": {
      "text/html": [
       "<div>\n",
       "<style scoped>\n",
       "    .dataframe tbody tr th:only-of-type {\n",
       "        vertical-align: middle;\n",
       "    }\n",
       "\n",
       "    .dataframe tbody tr th {\n",
       "        vertical-align: top;\n",
       "    }\n",
       "\n",
       "    .dataframe thead th {\n",
       "        text-align: right;\n",
       "    }\n",
       "</style>\n",
       "<table border=\"1\" class=\"dataframe\">\n",
       "  <thead>\n",
       "    <tr style=\"text-align: right;\">\n",
       "      <th></th>\n",
       "      <th>user_ID</th>\n",
       "      <th>photo_ID</th>\n",
       "      <th>tag</th>\n",
       "      <th>emotion</th>\n",
       "      <th>attractionID</th>\n",
       "    </tr>\n",
       "  </thead>\n",
       "  <tbody>\n",
       "    <tr>\n",
       "      <th>0</th>\n",
       "      <td>94459808@N00</td>\n",
       "      <td>3388967115</td>\n",
       "      <td>自然</td>\n",
       "      <td>0.889</td>\n",
       "      <td>Sydney_id1</td>\n",
       "    </tr>\n",
       "    <tr>\n",
       "      <th>1</th>\n",
       "      <td>94459808@N00</td>\n",
       "      <td>3393680646</td>\n",
       "      <td>建筑</td>\n",
       "      <td>0.526</td>\n",
       "      <td>Sydney_id1</td>\n",
       "    </tr>\n",
       "    <tr>\n",
       "      <th>2</th>\n",
       "      <td>94459808@N00</td>\n",
       "      <td>3389770958</td>\n",
       "      <td>都市</td>\n",
       "      <td>0.737</td>\n",
       "      <td>Sydney_id1</td>\n",
       "    </tr>\n",
       "    <tr>\n",
       "      <th>3</th>\n",
       "      <td>62744044@N00</td>\n",
       "      <td>9120755474</td>\n",
       "      <td>自然</td>\n",
       "      <td>0.519</td>\n",
       "      <td>Sydney_id1</td>\n",
       "    </tr>\n",
       "    <tr>\n",
       "      <th>4</th>\n",
       "      <td>62744044@N00</td>\n",
       "      <td>9118604143</td>\n",
       "      <td>文化</td>\n",
       "      <td>0.918</td>\n",
       "      <td>Melbourne_id1</td>\n",
       "    </tr>\n",
       "  </tbody>\n",
       "</table>\n",
       "</div>"
      ],
      "text/plain": [
       "        user_ID    photo_ID tag  emotion   attractionID\n",
       "0  94459808@N00  3388967115  自然    0.889     Sydney_id1\n",
       "1  94459808@N00  3393680646  建筑    0.526     Sydney_id1\n",
       "2  94459808@N00  3389770958  都市    0.737     Sydney_id1\n",
       "3  62744044@N00  9120755474  自然    0.519     Sydney_id1\n",
       "4  62744044@N00  9118604143  文化    0.918  Melbourne_id1"
      ]
     },
     "execution_count": 31,
     "metadata": {},
     "output_type": "execute_result"
    }
   ],
   "source": [
    "photo_attraction = pd.read_csv('data/australia/photo-attraction/photo_attraction.csv')\n",
    "print(len(data))\n",
    "# merge data with photo_attraction on photo_ID\n",
    "data = pd.merge(data, photo_attraction, on='photo_ID', how='inner')\n",
    "# remove rows where tag is not empty list\n",
    "data = data[data['tag'].apply(lambda x: x != '')]\n",
    "data = data[data['emotion'].apply(lambda x: x != '')]\n",
    "data.head()"
   ]
  },
  {
   "cell_type": "code",
   "execution_count": 32,
   "metadata": {},
   "outputs": [
    {
     "data": {
      "text/plain": [
       "48253"
      ]
     },
     "execution_count": 32,
     "metadata": {},
     "output_type": "execute_result"
    }
   ],
   "source": [
    "len(data)"
   ]
  },
  {
   "cell_type": "code",
   "execution_count": 34,
   "metadata": {},
   "outputs": [],
   "source": [
    "data.to_csv('data/australia/features.csv', index=False, encoding='utf-8')"
   ]
  },
  {
   "cell_type": "code",
   "execution_count": 21,
   "metadata": {},
   "outputs": [],
   "source": [
    "le = LabelEncoder()\n",
    "all_tokens = set(token for token in data['tag'])\n",
    "all_tokens.update(token for token in data['emotion'])\n",
    "le.fit(list(all_tokens))\n",
    "data['tag'] = le.transform(data['tag'])\n",
    "data['emotion'] = le.transform(data['emotion'])\n"
   ]
  },
  {
   "cell_type": "code",
   "execution_count": 23,
   "metadata": {},
   "outputs": [],
   "source": [
    "data.to_csv('data/australia/features.csv', index=False, encoding='utf-8')"
   ]
  },
  {
   "cell_type": "code",
   "execution_count": null,
   "metadata": {},
   "outputs": [],
   "source": [
    "file_path = 'data/australia/user-attraction/Australia.csv'\n",
    "df = pd.read_csv(file_path)"
   ]
  },
  {
   "cell_type": "code",
   "execution_count": 25,
   "metadata": {},
   "outputs": [
    {
     "name": "stdout",
     "output_type": "stream",
     "text": [
      "322\n",
      "211\n",
      "0\n",
      "210\n"
     ]
    }
   ],
   "source": [
    "print(max(data['tag']))\n",
    "print(min(data['tag']))\n",
    "print(min(data['emotion']))\n",
    "print(max(data['emotion']))"
   ]
  },
  {
   "cell_type": "code",
   "execution_count": null,
   "metadata": {},
   "outputs": [],
   "source": []
  }
 ],
 "metadata": {
  "kernelspec": {
   "display_name": "base",
   "language": "python",
   "name": "python3"
  },
  "language_info": {
   "codemirror_mode": {
    "name": "ipython",
    "version": 3
   },
   "file_extension": ".py",
   "mimetype": "text/x-python",
   "name": "python",
   "nbconvert_exporter": "python",
   "pygments_lexer": "ipython3",
   "version": "3.11.5"
  }
 },
 "nbformat": 4,
 "nbformat_minor": 2
}
